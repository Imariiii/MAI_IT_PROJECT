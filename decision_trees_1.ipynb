{
  "metadata": {
    "colab": {
      "provenance": []
    },
    "gpuClass": "standard",
    "vscode": {
      "interpreter": {
        "hash": "e4cce46d6be9934fbd27f9ca0432556941ea5bdf741d4f4d64c6cd7f8dfa8fba"
      }
    },
    "kernelspec": {
      "name": "python",
      "display_name": "Python (Pyodide)",
      "language": "python"
    },
    "language_info": {
      "codemirror_mode": {
        "name": "ipython",
        "version": 3
      },
      "file_extension": ".py",
      "mimetype": "text/x-python",
      "name": "python",
      "nbconvert_exporter": "python",
      "pygments_lexer": "ipython3",
      "version": "3.8.15"
    }
  },
  "nbformat_minor": 4,
  "nbformat": 4,
  "cells": [
    {
      "cell_type": "code",
      "source": "import pandas as pd\nimport numpy as np\nfrom matplotlib import pyplot as plt\nimport seaborn \nimport plotly.express as px",
      "metadata": {
        "id": "y3DiadTG-ru-",
        "executionInfo": {
          "status": "ok",
          "timestamp": 1682194191884,
          "user_tz": -180,
          "elapsed": 256,
          "user": {
            "displayName": "Roman Sibirtsev",
            "userId": "08607274789413490300"
          }
        },
        "trusted": true
      },
      "execution_count": null,
      "outputs": []
    },
    {
      "cell_type": "markdown",
      "source": "# Домашняя работа: деревья решений",
      "metadata": {
        "id": "-QpBS-Nd-fAO"
      }
    },
    {
      "cell_type": "markdown",
      "source": "В этой домашней работе вам предстоит научиться предсказывать цены товаров из маркетплейса Azamon.\n\nТребования к домашней работе:\n- Во всех графиках должны быть подписи через title, legend, etc.\n- Во время обучения моделей проверяйте, что у вас не текут данные. Обычно это позитивно влияет на качество модели на тесте, но негативно влияет на оценку 🌚\n- Если вы сдаете работу в Google Colaboratory, убедитесь, что ваша тетрадка доступна по ссылке.\n- Использование мемов допускается, но необходимо соблюдать меру. Несодержательная работа, состоящая только из мемов, получает 0 баллов.",
      "metadata": {
        "id": "1ZVCYFgU-5Tw"
      }
    },
    {
      "cell_type": "markdown",
      "source": "# Загрузка и подготовка данных",
      "metadata": {
        "id": "JyTAlXb8CbXk"
      }
    },
    {
      "cell_type": "code",
      "source": "from google.colab import drive\ndrive.mount('/content/drive')",
      "metadata": {
        "colab": {
          "base_uri": "https://localhost:8080/"
        },
        "id": "Chhu659C3QH3",
        "executionInfo": {
          "status": "ok",
          "timestamp": 1682194193981,
          "user_tz": -180,
          "elapsed": 1841,
          "user": {
            "displayName": "Roman Sibirtsev",
            "userId": "08607274789413490300"
          }
        },
        "outputId": "b3ab7747-4cfd-45ae-e5ee-e541a87f02df",
        "trusted": true
      },
      "execution_count": null,
      "outputs": []
    },
    {
      "cell_type": "code",
      "source": "df = pd.read_csv('/content/drive/MyDrive/Colab Notebooks/MAI/HomeWork/amazon_co-ecommerce_sample.csv').drop(columns=[\n    'product_name',\n    'index',\n    'uniq_id',\n    'customers_who_bought_this_item_also_bought',\n    'items_customers_buy_after_viewing_this_item',\n    'sellers',\n    'description', # text\n    'product_information', # text\n    'product_description', # text\n    'customer_questions_and_answers', # text\n    'customer_reviews', # text\n])",
      "metadata": {
        "id": "wTZE8d233Gl0",
        "executionInfo": {
          "status": "ok",
          "timestamp": 1682194194356,
          "user_tz": -180,
          "elapsed": 377,
          "user": {
            "displayName": "Roman Sibirtsev",
            "userId": "08607274789413490300"
          }
        },
        "trusted": true
      },
      "execution_count": null,
      "outputs": []
    },
    {
      "cell_type": "code",
      "source": "df.head()",
      "metadata": {
        "colab": {
          "base_uri": "https://localhost:8080/",
          "height": 206
        },
        "id": "4gzm_Bsd3veS",
        "executionInfo": {
          "status": "ok",
          "timestamp": 1682194194611,
          "user_tz": -180,
          "elapsed": 9,
          "user": {
            "displayName": "Roman Sibirtsev",
            "userId": "08607274789413490300"
          }
        },
        "outputId": "c5cbcaa9-e693-4dcb-8d1a-4f03c99dddaa",
        "trusted": true
      },
      "execution_count": null,
      "outputs": []
    },
    {
      "cell_type": "markdown",
      "source": "## Очистка данных (1 балл)\n\nПосмотрите на признаки. Есть ли в них пропуски? Какое соотношение между NaN'ами и общим количеством данных? Есть ли смысл выкидывать какие-либо данные из этого датасета?",
      "metadata": {
        "id": "O59k78A8C_yP"
      }
    },
    {
      "cell_type": "code",
      "source": "df.isnull().sum()",
      "metadata": {
        "colab": {
          "base_uri": "https://localhost:8080/"
        },
        "id": "11Z89JQB4Guh",
        "executionInfo": {
          "status": "ok",
          "timestamp": 1682194194611,
          "user_tz": -180,
          "elapsed": 8,
          "user": {
            "displayName": "Roman Sibirtsev",
            "userId": "08607274789413490300"
          }
        },
        "outputId": "7059bdf7-6700-48ac-f2b0-1627f39f631c",
        "trusted": true
      },
      "execution_count": null,
      "outputs": []
    },
    {
      "cell_type": "code",
      "source": "df.isnull().sum() / (df.notnull().sum() + df.isnull().sum())",
      "metadata": {
        "colab": {
          "base_uri": "https://localhost:8080/"
        },
        "id": "nEwiLXQ841jO",
        "executionInfo": {
          "status": "ok",
          "timestamp": 1682194194611,
          "user_tz": -180,
          "elapsed": 6,
          "user": {
            "displayName": "Roman Sibirtsev",
            "userId": "08607274789413490300"
          }
        },
        "outputId": "86edd4d2-4177-4dfc-af9b-bab179d104e2",
        "trusted": true
      },
      "execution_count": null,
      "outputs": []
    },
    {
      "cell_type": "code",
      "source": "df = df.drop(columns = ['number_available_in_stock'])\ndf.head()",
      "metadata": {
        "colab": {
          "base_uri": "https://localhost:8080/",
          "height": 206
        },
        "id": "q77oSdG16LZ6",
        "executionInfo": {
          "status": "ok",
          "timestamp": 1682194194611,
          "user_tz": -180,
          "elapsed": 5,
          "user": {
            "displayName": "Roman Sibirtsev",
            "userId": "08607274789413490300"
          }
        },
        "outputId": "b9ee1694-454d-41af-8a28-b6573437e3e4",
        "trusted": true
      },
      "execution_count": null,
      "outputs": []
    },
    {
      "cell_type": "markdown",
      "source": "## Подготовка данных (3 балла)\n\nОбработайте признаки. Выполните кодирование категориальных признаков, заполните пропуски в числовых признаках. Обратите внимание, что в датасете есть признак, который разбивается на несколько подпризнаков. Что это за признак? Закодируйте и его.\n\nДополнительные вопросы (+ 1 балл):\n- Какие из признаков в этом датасете лучше кодировать через ordinal encoding?\n- Какие из признаков допустимо кодировать через one-hot?\n\nПрим.: суммарно за эту секцию можно получить до 4 баллов.",
      "metadata": {
        "id": "eH688KdZDdKY"
      }
    },
    {
      "cell_type": "code",
      "source": "# df['amazon_category_and_sub_category'].unique()\nnew_df = df['amazon_category_and_sub_category'].str.split(' > ',expand=True)\nnew_df.columns = ['sub_category_0', 'sub_category_1', 'sub_category_2', 'sub_category_3', 'sub_category_4']\nfinal_df = pd.concat([df,new_df], axis = 1)\nfinal_df = final_df.drop('amazon_category_and_sub_category', axis = 1)\ndf = final_df\ndf['sub_category_0'] = pd.factorize(df['sub_category_0'])[0] + 1\ndf['sub_category_1'] = pd.factorize(df['sub_category_1'])[0] + 1\ndf['sub_category_2'] = pd.factorize(df['sub_category_2'])[0] + 1\ndf['sub_category_3'] = pd.factorize(df['sub_category_3'])[0] + 1\ndf['sub_category_4'] = pd.factorize(df['sub_category_4'])[0] + 1\n\ndf['number_of_reviews'] = df['number_of_reviews'].str.replace(',', '')\ndf['number_of_reviews'] = df['number_of_reviews'].astype(float)\n\none_hot = pd.get_dummies(df['manufacturer'])\ndf = df.drop('manufacturer', axis = 1)\ndf = df.join(one_hot)\ndf['average_review_rating'] = df['average_review_rating'].str.split(expand = True)[:][0].astype(float)\ndf",
      "metadata": {
        "colab": {
          "base_uri": "https://localhost:8080/",
          "height": 540
        },
        "id": "ivpNdaLQ5vLO",
        "executionInfo": {
          "status": "ok",
          "timestamp": 1682194195239,
          "user_tz": -180,
          "elapsed": 633,
          "user": {
            "displayName": "Roman Sibirtsev",
            "userId": "08607274789413490300"
          }
        },
        "outputId": "c44fe6de-08bb-4f58-9bf6-8bde59bd8e9b",
        "trusted": true
      },
      "execution_count": null,
      "outputs": []
    },
    {
      "cell_type": "code",
      "source": "df['price'] = df['price'].str.replace('£','')\ndf['price'] = df['price'].str.replace(',','')\ns = df['price'].str.replace('- ','')\ns = s.str.split(expand=True)\ns[0] = s[0].astype(float)\ns[1] = s[1].astype(float)\ns = s.mean(axis = 1)\ndf['price'] = s",
      "metadata": {
        "id": "a-KoILZ-PCP2",
        "executionInfo": {
          "status": "ok",
          "timestamp": 1682194195240,
          "user_tz": -180,
          "elapsed": 5,
          "user": {
            "displayName": "Roman Sibirtsev",
            "userId": "08607274789413490300"
          }
        },
        "trusted": true
      },
      "execution_count": null,
      "outputs": []
    },
    {
      "cell_type": "code",
      "source": "df['price'].info()",
      "metadata": {
        "colab": {
          "base_uri": "https://localhost:8080/"
        },
        "id": "a2Hgi_tf7e6_",
        "executionInfo": {
          "status": "ok",
          "timestamp": 1682194195240,
          "user_tz": -180,
          "elapsed": 5,
          "user": {
            "displayName": "Roman Sibirtsev",
            "userId": "08607274789413490300"
          }
        },
        "outputId": "b0a4d470-0417-4819-bc35-b8b8a4306821",
        "trusted": true
      },
      "execution_count": null,
      "outputs": []
    },
    {
      "cell_type": "code",
      "source": "df.info()",
      "metadata": {
        "colab": {
          "base_uri": "https://localhost:8080/"
        },
        "id": "ATg-_B5FaHas",
        "executionInfo": {
          "status": "ok",
          "timestamp": 1682194195240,
          "user_tz": -180,
          "elapsed": 4,
          "user": {
            "displayName": "Roman Sibirtsev",
            "userId": "08607274789413490300"
          }
        },
        "outputId": "dec4346a-fe62-476b-9dab-ffa3899cb40d",
        "trusted": true
      },
      "execution_count": null,
      "outputs": []
    },
    {
      "cell_type": "code",
      "source": "df = df.dropna()\ndf",
      "metadata": {
        "colab": {
          "base_uri": "https://localhost:8080/",
          "height": 540
        },
        "id": "XnQUUfttavSa",
        "executionInfo": {
          "status": "ok",
          "timestamp": 1682194195520,
          "user_tz": -180,
          "elapsed": 282,
          "user": {
            "displayName": "Roman Sibirtsev",
            "userId": "08607274789413490300"
          }
        },
        "outputId": "a06c3bb6-d282-4cdb-f63a-5c710893f333",
        "trusted": true
      },
      "execution_count": null,
      "outputs": []
    },
    {
      "cell_type": "code",
      "source": "df['number_of_reviews'].info()",
      "metadata": {
        "colab": {
          "base_uri": "https://localhost:8080/"
        },
        "id": "QMr7zbtDbBq9",
        "executionInfo": {
          "status": "ok",
          "timestamp": 1682194195521,
          "user_tz": -180,
          "elapsed": 6,
          "user": {
            "displayName": "Roman Sibirtsev",
            "userId": "08607274789413490300"
          }
        },
        "outputId": "74ff5c88-1a87-4797-a963-236fdaa6dcb3",
        "trusted": true
      },
      "execution_count": null,
      "outputs": []
    },
    {
      "cell_type": "markdown",
      "source": "# Обучение модели (3 балла)",
      "metadata": {
        "id": "JTRoUwANEcn9"
      }
    },
    {
      "cell_type": "code",
      "source": "from sklearn.model_selection import train_test_split\ny = df['price']\nX = df.drop(columns = ['price'])\nX_train, X_test, y_train, y_test = train_test_split(X, y, train_size = 0.5, random_state = 42)",
      "metadata": {
        "id": "fy01cgy1b9k4",
        "executionInfo": {
          "status": "ok",
          "timestamp": 1682194195521,
          "user_tz": -180,
          "elapsed": 4,
          "user": {
            "displayName": "Roman Sibirtsev",
            "userId": "08607274789413490300"
          }
        },
        "trusted": true
      },
      "execution_count": null,
      "outputs": []
    },
    {
      "cell_type": "markdown",
      "source": "## Бейзлайн\n\nОбучите базовую модель. Для этого используйте `sklearn.dummy.DummyRegressor`. Какое качество она показывает на тесте? Посчитайте MSE, RMSE.",
      "metadata": {
        "id": "AyVaKKT7FFo5"
      }
    },
    {
      "cell_type": "code",
      "source": "from sklearn.dummy import DummyRegressor\nfrom sklearn.metrics import mean_squared_error\nfrom sklearn.metrics import r2_score\n\ndummy_regr = DummyRegressor(strategy = \"mean\").fit(X_train, y_train)\ny_pred = dummy_regr.predict(X_test)\nmse = mean_squared_error(y_test, y_pred)\nprint(mse)\n\nrmse = np.sqrt(mse)\nprint(rmse)\n\nr2 = r2_score(y_test, y_pred)\nr2",
      "metadata": {
        "colab": {
          "base_uri": "https://localhost:8080/"
        },
        "id": "khNFBwqPZgGN",
        "executionInfo": {
          "status": "ok",
          "timestamp": 1682194195841,
          "user_tz": -180,
          "elapsed": 324,
          "user": {
            "displayName": "Roman Sibirtsev",
            "userId": "08607274789413490300"
          }
        },
        "outputId": "d99aa419-7845-412b-ebd4-7a72679d5451",
        "trusted": true
      },
      "execution_count": null,
      "outputs": []
    },
    {
      "cell_type": "markdown",
      "source": "## Дерево решений\n\nОбучите регрессионное дерево решений, проверьте качество этой модели на тестовой выборке. Улучшилось ли качество по сравнению с базовой моделью? Оцените r2_score обученной модели.",
      "metadata": {
        "id": "rVW-MtPgF_vE"
      }
    },
    {
      "cell_type": "code",
      "source": "from sklearn.tree import DecisionTreeRegressor\n\n\nclf = DecisionTreeRegressor()\nclf = clf.fit(X_train, y_train)\ny_pred = clf.predict(X_test)\n\nr2 = r2_score(y_test, y_pred)\nr2",
      "metadata": {
        "colab": {
          "base_uri": "https://localhost:8080/"
        },
        "id": "Z-o9mDK4d_Vz",
        "executionInfo": {
          "status": "ok",
          "timestamp": 1682194196849,
          "user_tz": -180,
          "elapsed": 1010,
          "user": {
            "displayName": "Roman Sibirtsev",
            "userId": "08607274789413490300"
          }
        },
        "outputId": "86de6d77-61e9-4e7d-aafe-2999b5e9f599",
        "trusted": true
      },
      "execution_count": null,
      "outputs": []
    },
    {
      "cell_type": "markdown",
      "source": "## Линейная регрессия\n\nПопробуйте обучить линейную регрессию с параметрами по умолчанию. Оцените r2_score на тестовой выборке. Сравните качество с деревом решений. ",
      "metadata": {
        "id": "viVY_kUMG7Jv"
      }
    },
    {
      "cell_type": "code",
      "source": "from sklearn.linear_model import LinearRegression\n\nreg = LinearRegression().fit(X_train, y_train)\n\ny_pred = reg.predict(X_test)\n\nr2 = r2_score(y_test, y_pred)\nr2",
      "metadata": {
        "colab": {
          "base_uri": "https://localhost:8080/"
        },
        "id": "RcaNMnhYd_1A",
        "executionInfo": {
          "status": "ok",
          "timestamp": 1682194219447,
          "user_tz": -180,
          "elapsed": 22600,
          "user": {
            "displayName": "Roman Sibirtsev",
            "userId": "08607274789413490300"
          }
        },
        "outputId": "959407c2-7857-4de2-8b65-6dabc05f62c6",
        "trusted": true
      },
      "execution_count": null,
      "outputs": []
    },
    {
      "cell_type": "markdown",
      "source": "# Гиперпараметры (2 балла)\n\nПереберите несколько гиперпараметров (не более двух-трёх). Обратите внимание, как эти параметры влияют на ошибку модели на тестовой выборке. Постройте для глубины дерева график переобучения (fitting curve) аналогичный тому, что мы строили на занятии. Найдите глубину дерева, начиная с которой модель начинает переобучаться.",
      "metadata": {
        "id": "3J71riX2Guj3"
      }
    },
    {
      "cell_type": "code",
      "source": "import seaborn as sns\nfrom tqdm import tqdm\n\n\ndef plot_fitting_curve(\n    model_ctor, parameter: str, values: list, score, X_train, X_test, y_train, y_test\n):\n    train_curve = []\n    test_curve = []\n    for value in tqdm(values):\n        model = model_ctor(**{parameter: value}) \n        model.fit(X_train, y_train)\n        y_pred_train, y_pred_test = model.predict(X_train), model.predict(X_test)\n        train_curve.append(score(y_train, y_pred_train))\n        test_curve.append(score(y_test, y_pred_test))\n    sns.lineplot(x = values, y = train_curve)\n    sns.lineplot(x = values, y = test_curve)",
      "metadata": {
        "id": "-xBQoCcpjzWq",
        "executionInfo": {
          "status": "ok",
          "timestamp": 1682194219447,
          "user_tz": -180,
          "elapsed": 10,
          "user": {
            "displayName": "Roman Sibirtsev",
            "userId": "08607274789413490300"
          }
        },
        "trusted": true
      },
      "execution_count": null,
      "outputs": []
    },
    {
      "cell_type": "code",
      "source": "plot_fitting_curve(DecisionTreeRegressor, 'max_depth', np.arange(1, 30), r2_score, X_train, X_test, y_train, y_test)",
      "metadata": {
        "colab": {
          "base_uri": "https://localhost:8080/",
          "height": 447
        },
        "id": "UfwBeRi2jrtq",
        "executionInfo": {
          "status": "ok",
          "timestamp": 1682194739981,
          "user_tz": -180,
          "elapsed": 17370,
          "user": {
            "displayName": "Roman Sibirtsev",
            "userId": "08607274789413490300"
          }
        },
        "outputId": "4ca61b5d-fcc9-4036-f923-a862974213a0",
        "trusted": true
      },
      "execution_count": null,
      "outputs": []
    },
    {
      "cell_type": "code",
      "source": "plot_fitting_curve(DecisionTreeRegressor, 'max_leaf_nodes', np.arange(2, 30), r2_score, X_train, X_test, y_train, y_test)",
      "metadata": {
        "colab": {
          "base_uri": "https://localhost:8080/",
          "height": 447
        },
        "id": "E28jO75JmLDb",
        "executionInfo": {
          "status": "ok",
          "timestamp": 1682194760003,
          "user_tz": -180,
          "elapsed": 20034,
          "user": {
            "displayName": "Roman Sibirtsev",
            "userId": "08607274789413490300"
          }
        },
        "outputId": "7e4dbb3e-5620-4c7b-bac1-8d35c56d0775",
        "trusted": true
      },
      "execution_count": null,
      "outputs": []
    },
    {
      "cell_type": "markdown",
      "source": "# Простое ансамблирование (1 балл)\n\nВ этой секции мы реализуем простой ансамбль деревьев.",
      "metadata": {
        "id": "rJlf6gJ9RBhf"
      }
    },
    {
      "cell_type": "code",
      "source": "class EnsembleTreeRegressor:\n    def __init__(self, num_trees = 5, samples_frac = 0.8, **model_kwargs):\n        self.num_trees = num_trees\n        self._samples_frac = 0.8\n        self._trees = [DecisionTreeRegressor(**model_kwargs) for _ in range(num_trees)]\n    def fit(self, x, y: pd.Series):\n        x = pd.DataFrame(x)\n        y = y.reset_index(drop=True)\n        for tree in self._trees:\n            tree_x = x.sample(frac=self._samples_frac, random_state = 42)\n            tree_y = y[tree_x.index]\n            tree.fit(tree_x, tree_y)\n        return self\n\n    def predict(self, x: pd.DataFrame):\n        x = pd.DataFrame(x)\n        res = []\n        for i in range(self.num_trees):\n          res.append(self._trees[i].predict(x))\n        return sum(res) / len(res)",
      "metadata": {
        "id": "Ht7wq9TqUfvZ",
        "executionInfo": {
          "status": "ok",
          "timestamp": 1682194222959,
          "user_tz": -180,
          "elapsed": 376,
          "user": {
            "displayName": "Roman Sibirtsev",
            "userId": "08607274789413490300"
          }
        },
        "trusted": true
      },
      "execution_count": null,
      "outputs": []
    },
    {
      "cell_type": "markdown",
      "source": "Проверьте, работает ли этот ансамбль лучше обычного дерева с параметрами по умолчанию?\n\nДополнительно переберите максимальную глубину дерева. Проверьте, насколько отличается момент начала переобучения у одиночного дерева и у ансамбля. Зависит ли этот момент от числа деревьев (`num_trees`)? От числа примеров для каждого дерева (`samples_frac`)? Постройте график fitting curve.",
      "metadata": {
        "id": "FCxogZPuVZCF"
      }
    }
  ]
}