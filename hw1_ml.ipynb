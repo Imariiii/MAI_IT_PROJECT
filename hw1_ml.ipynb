{
  "metadata": {
    "kernelspec": {
      "name": "python",
      "display_name": "Python (Pyodide)",
      "language": "python"
    },
    "language_info": {
      "codemirror_mode": {
        "name": "python",
        "version": 3
      },
      "file_extension": ".py",
      "mimetype": "text/x-python",
      "name": "python",
      "nbconvert_exporter": "python",
      "pygments_lexer": "ipython3",
      "version": "3.8"
    }
  },
  "nbformat_minor": 5,
  "nbformat": 4,
  "cells": [
    {
      "cell_type": "markdown",
      "source": "# Домашняя работа по регуляризации и оптимизации\n\nНиже приводится корпус данных с двумя метками: 1 и -1. К данным применяется линейная модель классификации:\n\n$f(x, \\theta) = x_1 \\theta_1 + x_2 \\theta_2 + \\theta_3.$\n\nПредлагается подобрать параметры $\\theta$ минимизируя следующую функцию ошибки:\n\n$\\mathcal{L}(\\theta) = 0.1 \\|\\theta\\|^2 + \\frac{1}{N}\\sum\\limits_{i=1}^N \\max(0, 1 - y_i f(x_i, \\theta)).$\n\nДля оптимизации предлагается использовать метод градиентного спуска с 1000 шагами размера $0.1$ из начальной точки $(1, 1, 0)$.",
      "metadata": {},
      "id": "324ba23b-76d4-4601-8652-7d32e670d7bd"
    },
    {
      "cell_type": "code",
      "source": "import numpy as np\nimport yaml",
      "metadata": {
        "trusted": true
      },
      "execution_count": 126,
      "outputs": [],
      "id": "a4a2b983-be67-4c7f-82ac-c8e988cdf9a8"
    },
    {
      "cell_type": "code",
      "source": "X = np.array([\n    [0, 1],\n    [1, 1],\n    [1, 0],\n    [-0.5, 0.5],\n    [0, -0.5]\n])\n\ny = np.array([1, 1, 1, -1, -1])\n\ntheta0 = np.array([1.0, 1.0, 0.0])\n\nlr = 0.1\n\ndef f(X, theta):\n    theta = np.asarray(theta)\n    return (X * theta[:2]).sum(axis = -1) + theta[2]\n\ndef loss(X, y, theta):\n    theta = np.asarray(theta)\n    norm = (theta ** 2).sum()\n    deltas = y * f(X, theta)\n    return 0.1 * norm + np.mean(np.maximum(0, 1 - deltas))\n\nprint(\"Prediction:\", f(X, theta0))\nprint(\"Loss:\", loss(X, y, theta0))",
      "metadata": {
        "trusted": true
      },
      "execution_count": 127,
      "outputs": [
        {
          "name": "stdout",
          "text": "Prediction: [ 1.   2.   1.   0.  -0.5]\nLoss: 0.5\n",
          "output_type": "stream"
        }
      ],
      "id": "d97e283a-3d3f-427c-a273-36b0364ff614"
    },
    {
      "cell_type": "code",
      "source": "def f_d(X):\n    return np.array([\n        X[:, 0],\n        X[:, 1],  \n        [1] * len(X)])\n\ndef loss_d(X, y, theta):\n    theta = np.asarray(theta)\n    norm_d = theta * 2\n    dlts = y * f(X, theta)\n    dlts = np.maximum(1 - dlts, 0)\n    msk = (dlts != 0)\n    msk = msk.astype(np.int64)\n    dlts_d = msk * (-y * f_d(X))\n    return (0.1 * norm_d) + np.mean(dlts_d, axis = 1)\n\ndef step(X, y, theta, lr):\n    return theta - (lr * loss_d(X, y, theta))",
      "metadata": {
        "trusted": true
      },
      "execution_count": 128,
      "outputs": [],
      "id": "04c77df9-0550-4da1-9848-74f5d3804d55"
    },
    {
      "cell_type": "code",
      "source": "theta = theta0\nfor i in range(1000):\n    theta = step(X, y, theta, lr)",
      "metadata": {
        "trusted": true
      },
      "execution_count": 129,
      "outputs": [],
      "id": "9eb06df7-7d5f-4637-982f-043470786d98"
    },
    {
      "cell_type": "code",
      "source": "print(\"Prediction:\", f(X, theta))\nprint(\"Loss:\", loss(X, y, theta))\n\nwith open(\"submission.yaml\", \"w\") as fp:\n    yaml.safe_dump({\"tasks\": [{\"task1\": {\"answer\": theta.tolist()}}]}, fp)",
      "metadata": {
        "trusted": true
      },
      "execution_count": 130,
      "outputs": [
        {
          "name": "stdout",
          "text": "Prediction: [ 0.75218494  2.00436988  1.00436988 -0.37390753 -0.74781506]\nLoss: 0.48815643632236133\n",
          "output_type": "stream"
        }
      ],
      "id": "5feb08ee-cd89-4ccf-a156-6ed013501c95"
    }
  ]
}